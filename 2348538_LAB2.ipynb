{
 "cells": [
  {
   "cell_type": "markdown",
   "metadata": {},
   "source": [
    "- Perform the operation X, Y, Z, H, S, T \n",
    "- Execute the operations on a state vector.\n",
    "- Draw a simple circuit for these operation.\n",
    "- Finally,  simulate the result of running this experiment  10000 times.\n",
    "- Proof that R is square root of NOT  operation. where R is a Hadamard operation, followed by the S operation, followed by another Hadamard operation.\n"
   ]
  },
  {
   "cell_type": "code",
   "execution_count": 13,
   "metadata": {},
   "outputs": [],
   "source": [
    "from qiskit import QuantumCircuit\n",
    "from qiskit.quantum_info import Statevector\n",
    "from qiskit.quantum_info import Operator\n",
    "import numpy as np"
   ]
  },
  {
   "cell_type": "code",
   "execution_count": 17,
   "metadata": {},
   "outputs": [],
   "source": [
    "X = Operator([[0, 1], [1, 0]])  # Pauli-X gate (NOT gate)\n",
    "Y = Operator([[0, -1j], [1j, 0]])  # Pauli-Y gate\n",
    "Z = Operator([[1, 0], [0, -1]])  # Pauli-Z gate\n",
    "H = Operator([[1/np.sqrt(2), 1/np.sqrt(2)], [1/np.sqrt(2), -1/np.sqrt(2)]])  # Hadamard gate\n",
    "S = Operator([[1, 0], [0, 1j]])  # S gate (phase gate)\n",
    "T = Operator([[1, 0], [0, np.exp(1j * np.pi / 4)]])  # T gate (π/4 phase gate)\n",
    "\n",
    "# Initialize the state vector |0⟩ as [1, 0]\n",
    "initial_state = Statevector([1, 0])"
   ]
  },
  {
   "cell_type": "code",
   "execution_count": 18,
   "metadata": {},
   "outputs": [],
   "source": [
    "def evolve_state(state):\n",
    "    # Apply X, Y, Z, H, S, and T gates sequentially\n",
    "    state = state.evolve(X)  # Apply X gate\n",
    "    state = state.evolve(Y)  # Apply Y gate\n",
    "    state = state.evolve(Z)  # Apply Z gate\n",
    "    state = state.evolve(H)  # Apply Hadamard gate\n",
    "    state = state.evolve(S)  # Apply S gate\n",
    "    state = state.evolve(T)  # Apply T gate\n",
    "    return state"
   ]
  },
  {
   "cell_type": "code",
   "execution_count": 21,
   "metadata": {},
   "outputs": [
    {
     "data": {
      "text/latex": [
       "$$- \\frac{\\sqrt{2} i}{2} |0\\rangle+(\\frac{1}{2} + \\frac{i}{2}) |1\\rangle$$"
      ],
      "text/plain": [
       "<IPython.core.display.Latex object>"
      ]
     },
     "metadata": {},
     "output_type": "display_data"
    }
   ],
   "source": [
    "final_state = evolve_state(initial_state)\n",
    "display(final_state.draw('latex'))"
   ]
  },
  {
   "cell_type": "code",
   "execution_count": 11,
   "metadata": {},
   "outputs": [],
   "source": [
    "def run_simulation(circuit):\n",
    "    # Get the final state of the circuit\n",
    "    initial_state = Statevector.from_label('0')  # Start with |0⟩\n",
    "    \n",
    "    # Evolve the state according to the quantum circuit\n",
    "    final_state = initial_state.evolve(circuit)\n",
    "    return final_state"
   ]
  },
  {
   "cell_type": "code",
   "execution_count": 14,
   "metadata": {},
   "outputs": [],
   "source": [
    "def verify_sqrt_not():\n",
    "    # Define the R gate as HSH\n",
    "    R = Operator.from_label('HSH')\n",
    "    \n",
    "    # Define sqrt(X)\n",
    "    sqrt_X = np.array([[1 + 1j, 1 - 1j], [1 - 1j, 1 + 1j]]) / 2\n",
    "    \n",
    "    # Compare matrices to see if they are equal\n",
    "    is_equal = np.allclose(R.data, sqrt_X)\n",
    "    return is_equal, R.data, sqrt_X"
   ]
  },
  {
   "cell_type": "code",
   "execution_count": 15,
   "metadata": {},
   "outputs": [
    {
     "name": "stdout",
     "output_type": "stream",
     "text": [
      "Quantum Circuit:\n",
      "        ┌───┐┌───┐┌───┐┌───┐┌───┐┌───┐ ░ ┌─┐\n",
      "     q: ┤ X ├┤ Y ├┤ Z ├┤ H ├┤ S ├┤ T ├─░─┤M├\n",
      "        └───┘└───┘└───┘└───┘└───┘└───┘ ░ └╥┘\n",
      "meas: 1/══════════════════════════════════╩═\n",
      "                                          0 \n"
     ]
    },
    {
     "ename": "QiskitError",
     "evalue": "'Cannot apply instruction with classical bits: measure'",
     "output_type": "error",
     "traceback": [
      "\u001b[1;31m---------------------------------------------------------------------------\u001b[0m",
      "\u001b[1;31mQiskitError\u001b[0m                               Traceback (most recent call last)",
      "Cell \u001b[1;32mIn[15], line 8\u001b[0m\n\u001b[0;32m      5\u001b[0m \u001b[38;5;28mprint\u001b[39m(qc)\n\u001b[0;32m      7\u001b[0m \u001b[38;5;66;03m# Simulate the circuit and get the final quantum state\u001b[39;00m\n\u001b[1;32m----> 8\u001b[0m final_state \u001b[38;5;241m=\u001b[39m \u001b[43mrun_simulation\u001b[49m\u001b[43m(\u001b[49m\u001b[43mqc\u001b[49m\u001b[43m)\u001b[49m\n\u001b[0;32m      9\u001b[0m \u001b[38;5;28mprint\u001b[39m(\u001b[38;5;124m\"\u001b[39m\u001b[38;5;130;01m\\n\u001b[39;00m\u001b[38;5;124mFinal Quantum State:\u001b[39m\u001b[38;5;124m\"\u001b[39m)\n\u001b[0;32m     10\u001b[0m \u001b[38;5;28mprint\u001b[39m(final_state)\n",
      "Cell \u001b[1;32mIn[11], line 6\u001b[0m, in \u001b[0;36mrun_simulation\u001b[1;34m(circuit)\u001b[0m\n\u001b[0;32m      3\u001b[0m initial_state \u001b[38;5;241m=\u001b[39m Statevector\u001b[38;5;241m.\u001b[39mfrom_label(\u001b[38;5;124m'\u001b[39m\u001b[38;5;124m0\u001b[39m\u001b[38;5;124m'\u001b[39m)  \u001b[38;5;66;03m# Start with |0⟩\u001b[39;00m\n\u001b[0;32m      5\u001b[0m \u001b[38;5;66;03m# Evolve the state according to the quantum circuit\u001b[39;00m\n\u001b[1;32m----> 6\u001b[0m final_state \u001b[38;5;241m=\u001b[39m \u001b[43minitial_state\u001b[49m\u001b[38;5;241;43m.\u001b[39;49m\u001b[43mevolve\u001b[49m\u001b[43m(\u001b[49m\u001b[43mcircuit\u001b[49m\u001b[43m)\u001b[49m\n\u001b[0;32m      7\u001b[0m \u001b[38;5;28;01mreturn\u001b[39;00m final_state\n",
      "File \u001b[1;32md:\\SEM 5\\.venv\\Lib\\site-packages\\qiskit\\quantum_info\\states\\statevector.py:391\u001b[0m, in \u001b[0;36mStatevector.evolve\u001b[1;34m(self, other, qargs)\u001b[0m\n\u001b[0;32m    389\u001b[0m     \u001b[38;5;28;01mif\u001b[39;00m \u001b[38;5;28mself\u001b[39m\u001b[38;5;241m.\u001b[39mnum_qubits \u001b[38;5;129;01mis\u001b[39;00m \u001b[38;5;28;01mNone\u001b[39;00m:\n\u001b[0;32m    390\u001b[0m         \u001b[38;5;28;01mraise\u001b[39;00m QiskitError(\u001b[38;5;124m\"\u001b[39m\u001b[38;5;124mCannot apply QuantumCircuit to non-qubit Statevector.\u001b[39m\u001b[38;5;124m\"\u001b[39m)\n\u001b[1;32m--> 391\u001b[0m     \u001b[38;5;28;01mreturn\u001b[39;00m \u001b[38;5;28;43mself\u001b[39;49m\u001b[38;5;241;43m.\u001b[39;49m\u001b[43m_evolve_instruction\u001b[49m\u001b[43m(\u001b[49m\u001b[43mret\u001b[49m\u001b[43m,\u001b[49m\u001b[43m \u001b[49m\u001b[43mother\u001b[49m\u001b[43m,\u001b[49m\u001b[43m \u001b[49m\u001b[43mqargs\u001b[49m\u001b[38;5;241;43m=\u001b[39;49m\u001b[43mqargs\u001b[49m\u001b[43m)\u001b[49m\n\u001b[0;32m    393\u001b[0m \u001b[38;5;66;03m# Evolution by an Operator\u001b[39;00m\n\u001b[0;32m    394\u001b[0m \u001b[38;5;28;01mif\u001b[39;00m \u001b[38;5;129;01mnot\u001b[39;00m \u001b[38;5;28misinstance\u001b[39m(other, Operator):\n",
      "File \u001b[1;32md:\\SEM 5\\.venv\\Lib\\site-packages\\qiskit\\quantum_info\\states\\statevector.py:949\u001b[0m, in \u001b[0;36mStatevector._evolve_instruction\u001b[1;34m(statevec, obj, qargs)\u001b[0m\n\u001b[0;32m    947\u001b[0m \u001b[38;5;28;01mfor\u001b[39;00m instruction \u001b[38;5;129;01min\u001b[39;00m obj\u001b[38;5;241m.\u001b[39mdefinition:\n\u001b[0;32m    948\u001b[0m     \u001b[38;5;28;01mif\u001b[39;00m instruction\u001b[38;5;241m.\u001b[39mclbits:\n\u001b[1;32m--> 949\u001b[0m         \u001b[38;5;28;01mraise\u001b[39;00m QiskitError(\n\u001b[0;32m    950\u001b[0m             \u001b[38;5;124mf\u001b[39m\u001b[38;5;124m\"\u001b[39m\u001b[38;5;124mCannot apply instruction with classical bits: \u001b[39m\u001b[38;5;132;01m{\u001b[39;00minstruction\u001b[38;5;241m.\u001b[39moperation\u001b[38;5;241m.\u001b[39mname\u001b[38;5;132;01m}\u001b[39;00m\u001b[38;5;124m\"\u001b[39m\n\u001b[0;32m    951\u001b[0m         )\n\u001b[0;32m    952\u001b[0m     \u001b[38;5;66;03m# Get the integer position of the flat register\u001b[39;00m\n\u001b[0;32m    953\u001b[0m     \u001b[38;5;28;01mif\u001b[39;00m qargs \u001b[38;5;129;01mis\u001b[39;00m \u001b[38;5;28;01mNone\u001b[39;00m:\n",
      "\u001b[1;31mQiskitError\u001b[0m: 'Cannot apply instruction with classical bits: measure'"
     ]
    }
   ],
   "source": [
    "if __name__ == \"__main__\":\n",
    "    # Create the circuit with the specified operations\n",
    "    qc = create_circuit()\n",
    "    print(\"Quantum Circuit:\")\n",
    "    print(qc)\n",
    "    \n",
    "    # Simulate the circuit and get the final quantum state\n",
    "    final_state = run_simulation(qc)\n",
    "    print(\"\\nFinal Quantum State:\")\n",
    "    print(final_state)\n",
    "    \n",
    "    # Verify if HSH is sqrt(NOT)\n",
    "    is_sqrt_not, R_matrix, sqrt_X_matrix = verify_sqrt_not()\n",
    "    print(\"\\nIs HSH equal to sqrt(X)?\", is_sqrt_not)\n",
    "    print(\"\\nR (HSH) Matrix:\")\n",
    "    print(R_matrix)\n",
    "    print(\"\\nSqrt(X) Matrix:\")\n",
    "    print(sqrt_X_matrix)"
   ]
  },
  {
   "cell_type": "code",
   "execution_count": null,
   "metadata": {},
   "outputs": [],
   "source": []
  }
 ],
 "metadata": {
  "kernelspec": {
   "display_name": ".venv",
   "language": "python",
   "name": "python3"
  },
  "language_info": {
   "codemirror_mode": {
    "name": "ipython",
    "version": 3
   },
   "file_extension": ".py",
   "mimetype": "text/x-python",
   "name": "python",
   "nbconvert_exporter": "python",
   "pygments_lexer": "ipython3",
   "version": "3.12.6"
  }
 },
 "nbformat": 4,
 "nbformat_minor": 2
}
