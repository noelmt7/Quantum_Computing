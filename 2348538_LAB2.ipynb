{
 "cells": [
  {
   "cell_type": "markdown",
   "metadata": {},
   "source": [
    "- Perform the operation X, Y, Z, H, S, T \n",
    "- Execute the operations on a state vector.\n",
    "- Draw a simple circuit for these operation.\n",
    "- Finally,  simulate the result of running this experiment  10000 times.\n",
    "- Proof that R is square root of NOT  operation. where R is a Hadamard operation, followed by the S operation, followed by another Hadamard operation.\n"
   ]
  },
  {
   "cell_type": "code",
   "execution_count": 1,
   "metadata": {},
   "outputs": [],
   "source": [
    "from qiskit import QuantumCircuit\n",
    "from qiskit.quantum_info import Statevector\n",
    "from qiskit.quantum_info import Operator\n",
    "import numpy as np\n",
    "from qiskit.visualization import plot_circuit_layout\n"
   ]
  },
  {
   "cell_type": "code",
   "execution_count": 2,
   "metadata": {},
   "outputs": [],
   "source": [
    "X = Operator([[0, 1], [1, 0]])  # Pauli-X gate (NOT gate)\n",
    "Y = Operator([[0, -1j], [1j, 0]])  # Pauli-Y gate\n",
    "Z = Operator([[1, 0], [0, -1]])  # Pauli-Z gate\n",
    "H = Operator([[1/np.sqrt(2), 1/np.sqrt(2)], [1/np.sqrt(2), -1/np.sqrt(2)]])  # Hadamard gate\n",
    "S = Operator([[1, 0], [0, 1j]])  # S gate (phase gate)\n",
    "T = Operator([[1, 0], [0, np.exp(1j * np.pi / 4)]])  # T gate (π/4 phase gate)\n",
    "\n",
    "# Initialize the state vector |0⟩ as [1, 0]\n",
    "initial_state = Statevector([1, 0])"
   ]
  },
  {
   "cell_type": "code",
   "execution_count": 3,
   "metadata": {},
   "outputs": [],
   "source": [
    "def evolve_state(state):\n",
    "    # Apply X, Y, Z, H, S, and T gates sequentially\n",
    "    state = state.evolve(X)  # Apply X gate\n",
    "    state = state.evolve(Y)  # Apply Y gate\n",
    "    state = state.evolve(Z)  # Apply Z gate\n",
    "    state = state.evolve(H)  # Apply Hadamard gate\n",
    "    state = state.evolve(S)  # Apply S gate\n",
    "    state = state.evolve(T)  # Apply T gate\n",
    "    return state"
   ]
  },
  {
   "cell_type": "code",
   "execution_count": 4,
   "metadata": {},
   "outputs": [
    {
     "data": {
      "text/latex": [
       "$$- \\frac{\\sqrt{2} i}{2} |0\\rangle+(\\frac{1}{2} + \\frac{i}{2}) |1\\rangle$$"
      ],
      "text/plain": [
       "<IPython.core.display.Latex object>"
      ]
     },
     "metadata": {},
     "output_type": "display_data"
    }
   ],
   "source": [
    "final_state = evolve_state(initial_state)\n",
    "display(final_state.draw('latex'))"
   ]
  },
  {
   "cell_type": "code",
   "execution_count": 5,
   "metadata": {},
   "outputs": [],
   "source": [
    "def verify_sqrt_not():\n",
    "    # Create the quantum circuit to define R = HSH\n",
    "    qc = QuantumCircuit(1)\n",
    "    qc.h(0)  # Apply Hadamard\n",
    "    qc.s(0)  # Apply S\n",
    "    qc.h(0)  # Apply Hadamard again\n",
    "\n",
    "    # Get the matrix representation of R\n",
    "    R = qc.to_gate(label='R')  # Convert the circuit to a gate\n",
    "    R_matrix = R.to_matrix()  # Get the matrix representation\n",
    "\n",
    "    # Define sqrt(X) matrix explicitly\n",
    "    sqrt_X = np.array([[1 + 1j, 1 - 1j], [1 - 1j, 1 + 1j]]) / 2\n",
    "    \n",
    "    # Compare matrices to see if they are approximately equal\n",
    "    is_equal = np.allclose(R_matrix, sqrt_X)\n",
    "    \n",
    "    return is_equal, R_matrix, sqrt_X\n"
   ]
  },
  {
   "cell_type": "code",
   "execution_count": 6,
   "metadata": {},
   "outputs": [
    {
     "data": {
      "image/png": "[encoded data removed]",
      "text/plain": [
       "<Figure size 519.897x117.056 with 1 Axes>"
      ]
     },
     "execution_count": 6,
     "metadata": {},
     "output_type": "execute_result"
    }
   ],
   "source": [
    "from qiskit import QuantumCircuit\n",
    "from qiskit.visualization import plot_circuit_layout\n",
    "\n",
    "# Define the circuit\n",
    "circuit = QuantumCircuit(1)\n",
    "\n",
    "# Apply gates\n",
    "circuit.h(0)\n",
    "circuit.t(0)\n",
    "circuit.h(0)\n",
    "circuit.t(0)\n",
    "circuit.z(0)\n",
    "\n",
    "# Draw the circuit using 'mpl' for Matplotlib rendering\n",
    "circuit.draw(output='mpl')\n"
   ]
  },
  {
   "cell_type": "code",
   "execution_count": 7,
   "metadata": {},
   "outputs": [],
   "source": [
    "def R_operation():\n",
    "    R = H @S @ H #matrix mult of H,S,H\n",
    "    return R"
   ]
  },
  {
   "cell_type": "code",
   "execution_count": 8,
   "metadata": {},
   "outputs": [],
   "source": [
    "def verify_sqrt_not():\n",
    "    R = R_operation()\n",
    "    R_squared = R@R\n",
    "\n",
    "    is_equal = np.allclose(R_squared, np.eye(2))\n",
    "    return is_equal, R_squared, np.eye(2)"
   ]
  },
  {
   "cell_type": "code",
   "execution_count": 9,
   "metadata": {},
   "outputs": [
    {
     "name": "stdout",
     "output_type": "stream",
     "text": [
      "Is R^2 equal to the X (NOT) gate?: False\n",
      "\n",
      "R^2 (Square of R gate):\n",
      " Operator([[1.23259516e-32-1.23259516e-32j, 1.00000000e+00+1.23259516e-32j],\n",
      "          [1.00000000e+00-1.23259516e-32j, 1.23259516e-32+1.23259516e-32j]],\n",
      "         input_dims=(2,), output_dims=(2,))\n",
      "\n",
      "X (NOT) gate:\n",
      " [[1. 0.]\n",
      " [0. 1.]]\n"
     ]
    }
   ],
   "source": [
    "is_equal, R_squared_data, X_data = verify_sqrt_not()\n",
    "\n",
    "print(\"Is R^2 equal to the X (NOT) gate?:\", is_equal)\n",
    "print(\"\\nR^2 (Square of R gate):\\n\", R_squared_data)\n",
    "print(\"\\nX (NOT) gate:\\n\", X_data)"
   ]
  },
  {
   "cell_type": "code",
   "execution_count": 10,
   "metadata": {},
   "outputs": [
    {
     "name": "stdout",
     "output_type": "stream",
     "text": [
      "\n",
      "Quantum circuit for R gate (H -> S -> H):\n",
      "   ┌───┐┌───┐┌───┐\n",
      "q: ┤ H ├┤ S ├┤ H ├\n",
      "   └───┘└───┘└───┘\n"
     ]
    }
   ],
   "source": [
    "circuit = QuantumCircuit(1)\n",
    "circuit.h(0)\n",
    "circuit.s(0)\n",
    "circuit.h(0)\n",
    "print(\"\\nQuantum circuit for R gate (H -> S -> H):\")\n",
    "print(circuit.draw(\"text\"))"
   ]
  },
  {
   "cell_type": "code",
   "execution_count": 11,
   "metadata": {},
   "outputs": [
    {
     "data": {
      "image/png": "[encoded data removed]",
      "text/plain": [
       "<Figure size 640x480 with 1 Axes>"
      ]
     },
     "execution_count": 11,
     "metadata": {},
     "output_type": "execute_result"
    }
   ],
   "source": [
    "from qiskit.visualization import plot_histogram\n",
    "\n",
    "statistics  = final_state.sample_counts(100000)\n",
    "plot_histogram(statistics)"
   ]
  }
 ],
 "metadata": {
  "kernelspec": {
   "display_name": ".venv",
   "language": "python",
   "name": "python3"
  },
  "language_info": {
   "codemirror_mode": {
    "name": "ipython",
    "version": 3
   },
   "file_extension": ".py",
   "mimetype": "text/x-python",
   "name": "python",
   "nbconvert_exporter": "python",
   "pygments_lexer": "ipython3",
   "version": "3.12.6"
  }
 },
 "nbformat": 4,
 "nbformat_minor": 2
}
