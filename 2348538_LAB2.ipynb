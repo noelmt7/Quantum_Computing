{
 "cells": [
  {
   "cell_type": "markdown",
   "metadata": {},
   "source": [
    "# ***LAB 2***"
   ]
  },
  {
   "cell_type": "markdown",
   "metadata": {},
   "source": [
    "- Perform the operation X, Y, Z, H, S, T \n",
    "- Execute the operations on a state vector.\n",
    "- Draw a simple circuit for these operation.\n",
    "- Finally,  simulate the result of running this experiment  10000 times.\n",
    "- Proof that R is square root of NOT  operation. where R is a Hadamard operation, followed by the S operation, followed by another Hadamard operation.\n"
   ]
  },
  {
   "cell_type": "code",
   "execution_count": 2,
   "metadata": {},
   "outputs": [],
   "source": [
    "from qiskit import QuantumCircuit\n",
    "from qiskit.quantum_info import Statevector\n",
    "from qiskit.quantum_info import Operator\n",
    "import numpy as np\n",
    "from qiskit.visualization import plot_circuit_layout\n"
   ]
  },
  {
   "cell_type": "code",
   "execution_count": 3,
   "metadata": {},
   "outputs": [],
   "source": [
    "X = Operator([[0, 1], [1, 0]])  # Pauli-X gate (NOT gate)\n",
    "Y = Operator([[0, -1j], [1j, 0]])  # Pauli-Y gate\n",
    "Z = Operator([[1, 0], [0, -1]])  # Pauli-Z gate\n",
    "H = Operator([[1/np.sqrt(2), 1/np.sqrt(2)], [1/np.sqrt(2), -1/np.sqrt(2)]])  # Hadamard gate\n",
    "S = Operator([[1, 0], [0, 1j]])  # S gate (phase gate)\n",
    "T = Operator([[1, 0], [0, np.exp(1j * np.pi / 4)]])  # T gate (π/4 phase gate)\n",
    "\n",
    "# Initialize the state vector |0⟩ as [1, 0]\n",
    "initial_state = Statevector([1, 0])"
   ]
  },
  {
   "cell_type": "code",
   "execution_count": 4,
   "metadata": {},
   "outputs": [],
   "source": [
    "def evolve_state(state):\n",
    "    # Apply X, Y, Z, H, S, and T gates sequentially\n",
    "    state = state.evolve(X)  # Apply X gate\n",
    "    state = state.evolve(Y)  # Apply Y gate\n",
    "    state = state.evolve(Z)  # Apply Z gate\n",
    "    state = state.evolve(H)  # Apply Hadamard gate\n",
    "    state = state.evolve(S)  # Apply S gate\n",
    "    state = state.evolve(T)  # Apply T gate\n",
    "    return state"
   ]
  },
  {
   "cell_type": "code",
   "execution_count": 5,
   "metadata": {},
   "outputs": [
    {
     "data": {
      "text/latex": [
       "$$- \\frac{\\sqrt{2} i}{2} |0\\rangle+(\\frac{1}{2} + \\frac{i}{2}) |1\\rangle$$"
      ],
      "text/plain": [
       "<IPython.core.display.Latex object>"
      ]
     },
     "metadata": {},
     "output_type": "display_data"
    }
   ],
   "source": [
    "final_state = evolve_state(initial_state)\n",
    "display(final_state.draw('latex'))"
   ]
  },
  {
   "cell_type": "markdown",
   "metadata": {},
   "source": [
    "## Drawing Circuit Layout"
   ]
  },
  {
   "cell_type": "code",
   "execution_count": 1,
   "metadata": {},
   "outputs": [
    {
     "data": {
      "image/png": "[encoded data removed]",
      "text/plain": [
       "<Figure size 519.897x117.056 with 1 Axes>"
      ]
     },
     "execution_count": 1,
     "metadata": {},
     "output_type": "execute_result"
    }
   ],
   "source": [
    "from qiskit import QuantumCircuit\n",
    "from qiskit.visualization import plot_circuit_layout\n",
    "\n",
    "# Define the circuit\n",
    "circuit = QuantumCircuit(1)\n",
    "\n",
    "# Apply gates\n",
    "circuit.h(0)\n",
    "circuit.t(0)\n",
    "circuit.h(0)\n",
    "circuit.t(0)\n",
    "circuit.z(0)\n",
    "\n",
    "# Draw the circuit using 'mpl' for Matplotlib rendering\n",
    "circuit.draw(output='mpl')\n"
   ]
  },
  {
   "cell_type": "markdown",
   "metadata": {},
   "source": [
    "## Verifing R is sqrt(NOT)"
   ]
  },
  {
   "cell_type": "code",
   "execution_count": 6,
   "metadata": {},
   "outputs": [],
   "source": [
    "def R_operation():\n",
    "    R = H @S @ H #matrix mult of H,S,H\n",
    "    return R"
   ]
  },
  {
   "cell_type": "code",
   "execution_count": 7,
   "metadata": {},
   "outputs": [],
   "source": [
    "def verify_sqrt_not():\n",
    "    R = R_operation()\n",
    "    R_squared = R@R\n",
    "\n",
    "    is_equal = np.allclose(R_squared, np.eye(2))\n",
    "    return is_equal, R_squared, np.eye(2)"
   ]
  },
  {
   "cell_type": "code",
   "execution_count": 8,
   "metadata": {},
   "outputs": [
    {
     "name": "stdout",
     "output_type": "stream",
     "text": [
      "Is R^2 equal to the X (NOT) gate?: False\n",
      "\n",
      "R^2 (Square of R gate):\n",
      " Operator([[0.-2.46519033e-32j, 1.+0.00000000e+00j],\n",
      "          [1.+0.00000000e+00j, 0.+2.46519033e-32j]],\n",
      "         input_dims=(2,), output_dims=(2,))\n",
      "\n",
      "X (NOT) gate:\n",
      " [[1. 0.]\n",
      " [0. 1.]]\n"
     ]
    }
   ],
   "source": [
    "is_equal, R_squared_data, X_data = verify_sqrt_not()\n",
    "\n",
    "print(\"Is R^2 equal to the X (NOT) gate?:\", is_equal)\n",
    "print(\"\\nR^2 (Square of R gate):\\n\", R_squared_data)\n",
    "print(\"\\nX (NOT) gate:\\n\", X_data)"
   ]
  },
  {
   "cell_type": "code",
   "execution_count": 9,
   "metadata": {},
   "outputs": [
    {
     "name": "stdout",
     "output_type": "stream",
     "text": [
      "\n",
      "Quantum circuit for R gate (H -> S -> H):\n",
      "   ┌───┐┌───┐┌───┐\n",
      "q: ┤ H ├┤ S ├┤ H ├\n",
      "   └───┘└───┘└───┘\n"
     ]
    }
   ],
   "source": [
    "circuit = QuantumCircuit(1)\n",
    "circuit.h(0)\n",
    "circuit.s(0)\n",
    "circuit.h(0)\n",
    "print(\"\\nQuantum circuit for R gate (H -> S -> H):\")\n",
    "print(circuit.draw(\"text\"))"
   ]
  },
  {
   "cell_type": "markdown",
   "metadata": {},
   "source": [
    "## Simulating R gate"
   ]
  },
  {
   "cell_type": "code",
   "execution_count": 10,
   "metadata": {},
   "outputs": [
    {
     "data": {
      "image/png": "[encoded data removed]",
      "text/plain": [
       "<Figure size 640x480 with 1 Axes>"
      ]
     },
     "execution_count": 10,
     "metadata": {},
     "output_type": "execute_result"
    }
   ],
   "source": [
    "from qiskit.visualization import plot_histogram\n",
    "\n",
    "statistics  = final_state.sample_counts(100000)\n",
    "plot_histogram(statistics)"
   ]
  }
 ],
 "metadata": {
  "kernelspec": {
   "display_name": "Python 3",
   "language": "python",
   "name": "python3"
  },
  "language_info": {
   "codemirror_mode": {
    "name": "ipython",
    "version": 3
   },
   "file_extension": ".py",
   "mimetype": "text/x-python",
   "name": "python",
   "nbconvert_exporter": "python",
   "pygments_lexer": "ipython3",
   "version": "3.12.5"
  }
 },
 "nbformat": 4,
 "nbformat_minor": 2
}
